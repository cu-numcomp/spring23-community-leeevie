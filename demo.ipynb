{
 "cells": [
  {
   "cell_type": "code",
   "execution_count": 1,
   "id": "063ba686",
   "metadata": {},
   "outputs": [],
   "source": [
    "import matplotlib.pyplot as plt\n",
    "import numpy as np\n",
    "from numpy import ndarray\n",
    "from timeit import default_timer as timer\n",
    "\n",
    "import rmsd"
   ]
  },
  {
   "cell_type": "markdown",
   "id": "1cb0ed46",
   "metadata": {},
   "source": [
    "# rmsd\n",
    "\n",
    "This [Python program](https://github.com/charnley/rmsd) is available as the `rmsd` package. Its specific purpose is better described by its readme title: **Calculate Root-mean-square deviation (RMSD) of Two Molecules Using Rotation**.\n",
    "\n",
    "It determines the structural differences between two molecules after aligning them (rotate, translate). It calculates the optimal rotational matrix to minimize the root-mean-square deviation (RMSD), which is often used to calculate the differences between modeled and observed values. This is done using either the [Kabsch algorithm](https://en.wikipedia.org/wiki/Kabsch_algorithm) (which uses SVD) or the [Quarternion algorithm](http://dx.doi.org/10.1016/1049-9660(91)90036-o) to calculate the rotation matrix. Due to its application on molecules, the primary audience is those in cheminformatics (comparing molecular structure) or bioinformatics (comparing protein structures) ([Wikipedia](https://en.wikipedia.org/wiki/Kabsch_algorithm); this repo is also featured under \"External Links\").\n",
    "\n",
    "It can be installed using pip:\n",
    "```\n",
    "pip install rmsd\n",
    "```"
   ]
  },
  {
   "cell_type": "code",
   "execution_count": 2,
   "id": "f263aaa9",
   "metadata": {},
   "outputs": [
    {
     "data": {
      "image/png": "[encoded data removed]",
      "text/plain": [
       "<Figure size 1152x288 with 3 Axes>"
      ]
     },
     "metadata": {
      "needs_background": "light"
     },
     "output_type": "display_data"
    }
   ],
   "source": [
    "# code modified from example.py in the rmsd repo\n",
    "\n",
    "# helper functions\n",
    "def rotation_matrix(sigma: float) -> ndarray:\n",
    "    \"\"\"\n",
    "    https://en.wikipedia.org/wiki/Rotation_matrix\n",
    "    \"\"\"\n",
    "\n",
    "    radians = sigma * np.pi / 180.0\n",
    "\n",
    "    r11 = np.cos(radians)\n",
    "    r12 = -np.sin(radians)\n",
    "    r21 = np.sin(radians)\n",
    "    r22 = np.cos(radians)\n",
    "\n",
    "    R = np.array([[r11, r12], [r21, r22]])\n",
    "\n",
    "    return R\n",
    "\n",
    "fig, ax = plt.subplots(1, 3, figsize=(16,4))\n",
    "\n",
    "def save_plot(A: ndarray, B: ndarray, title, label, subplot) -> None:\n",
    "\n",
    "    Ax = A[:, 0]\n",
    "    Ay = A[:, 1]\n",
    "\n",
    "    Bx = B[:, 0]\n",
    "    By = B[:, 1]\n",
    "\n",
    "    ax[subplot].plot(Ax, Ay, \"o-\", markersize=15, linewidth=3)\n",
    "    ax[subplot].plot(Bx, By, \"o-\", markersize=15, linewidth=3)\n",
    "    \n",
    "    ax[subplot].set_title(title)\n",
    "    ax[subplot].set_xlabel(label, fontsize=14)\n",
    "\n",
    "    ax[subplot].set_ylim([-2.5, 2.5])\n",
    "    ax[subplot].set_xlim([-2.5, 2.5])\n",
    "    ax[subplot].grid(True)\n",
    "    ax[subplot].tick_params(labelsize=15)\n",
    "\n",
    "# molecules\n",
    "A = np.array([[1.0, 1.0], [1.0, 2.0], [2.0, 1.5]])\n",
    "B = np.array([[2.1, 2.3], [1.0, 1.0], [1.0, 2.0]])\n",
    "B *= 1.1\n",
    "B -= 3\n",
    "B = np.dot(B, rotation_matrix(90))\n",
    "\n",
    "label = \"Normal RMSD: {:.2f}\".format(rmsd.rmsd(A, B))\n",
    "save_plot(A, B, title=\"initial\", label=label, subplot=0)\n",
    "\n",
    "# Translate\n",
    "A1 = A - rmsd.centroid(A)\n",
    "B1 = B - rmsd.centroid(B)\n",
    "\n",
    "label = \"Translated RMSD: {:.2f}\".format(rmsd.rmsd(A1, B1))\n",
    "save_plot(A1, B1, title=\"translated\", label=label, subplot=1)\n",
    "\n",
    "# Rotate using Kabsch\n",
    "U = rmsd.kabsch(A1, B1)\n",
    "A2 = np.dot(A1, U)\n",
    "\n",
    "label = \"Rotated RMSD: {:.2f}\".format(rmsd.rmsd(A2, B1))\n",
    "save_plot(A2, B1, title=\"rotated\", label=label, subplot=2)"
   ]
  },
  {
   "cell_type": "code",
   "execution_count": 3,
   "id": "590bb64b",
   "metadata": {},
   "outputs": [
    {
     "data": {
      "text/plain": [
       "0.3831573138486592"
      ]
     },
     "execution_count": 3,
     "metadata": {},
     "output_type": "execute_result"
    }
   ],
   "source": [
    "# or do the rotation and translation in one step\n",
    "A3 = rmsd.kabsch_fit(A,B)\n",
    "\n",
    "rmsd.rmsd(A3, B)"
   ]
  },
  {
   "cell_type": "markdown",
   "id": "753ff2f5",
   "metadata": {},
   "source": [
    "Besides choosing between Kabsch and Quaternion for rotation, there are many other options. The cli `--help` message includes these parameters:\n",
    "\n",
    "```\n",
    "  -r METHOD, --rotation METHOD\n",
    "                        select rotation method. Valid methods are kabsch,\n",
    "                        quaternion, none. Default is Kabsch.\n",
    "  -e, --reorder         align the atoms of molecules\n",
    "  --reorder-method METHOD\n",
    "                        select reorder method. Valid method are none, qml,\n",
    "                        hungarian, inertia-hungarian, brute, distance. Default\n",
    "                        is Hungarian.\n",
    "```\n",
    "\n",
    "The reorder methods are used for when the order of atoms are scrambled."
   ]
  },
  {
   "cell_type": "markdown",
   "id": "eb11fdbe",
   "metadata": {},
   "source": [
    "The rmsd repo also includes pytests and a `resources` folder that contains many `.xyz` files (molecules) to play around with. In the example below, we try out the different reordering methods on a set of 16 water molecules vs the same set but scrambled:"
   ]
  },
  {
   "cell_type": "code",
   "execution_count": 4,
   "id": "8965d94a",
   "metadata": {},
   "outputs": [
    {
     "name": "stdout",
     "output_type": "stream",
     "text": [
      "hungarian \n",
      "\tresult - 1.1433604409815158e-15\n",
      "\ttime -  0.002287750000000255\n",
      "distance \n",
      "\tresult - 1.1433604409815158e-15\n",
      "\ttime -  0.001553125000000044\n",
      "brute \n",
      "\tresult - "
     ]
    }
   ],
   "source": [
    "methods = [\"hungarian\", \"distance\", \"brute\"]\n",
    "files = [\"./water_16.xyz\", \"./water_16_idx.xyz\"]\n",
    "\n",
    "for method in methods:\n",
    "    print(method, \"\\n\\tresult - \", end=\"\")\n",
    "    start = timer()\n",
    "    rmsd.main([\"-e\", \"--reorder-method\", method, files[0], files[1]])\n",
    "    end = timer()\n",
    "    print(\"\\ttime - \", end - start)\n",
    "    \n",
    "# warning: brute force takes too long - interrupt the kernel if you need to"
   ]
  },
  {
   "cell_type": "markdown",
   "id": "40155b1c",
   "metadata": {},
   "source": [
    "### Question\n",
    "\n",
    "One question I have about this program is about why certain methods are given as options. As in, why are both Kabsch and Quaternion offered - and what are the tradeoffs for each? Similarly for the reordering methods, why is brute force offered when it's extremely slow?"
   ]
  },
  {
   "cell_type": "markdown",
   "id": "adc2928a",
   "metadata": {},
   "source": [
    "### Possible experiment\n",
    "\n",
    "In the same vein as my question, I think observing the speed and/or accuracy of Kabsch vs Quaternion could help give a more tangible comparison between the two methods. This would involve making # of points vs time graphs."
   ]
  },
  {
   "cell_type": "code",
   "execution_count": null,
   "id": "cbe5eff9",
   "metadata": {},
   "outputs": [],
   "source": []
  }
 ],
 "metadata": {
  "kernelspec": {
   "display_name": "Python 3 (ipykernel)",
   "language": "python",
   "name": "python3"
  },
  "language_info": {
   "codemirror_mode": {
    "name": "ipython",
    "version": 3
   },
   "file_extension": ".py",
   "mimetype": "text/x-python",
   "name": "python",
   "nbconvert_exporter": "python",
   "pygments_lexer": "ipython3",
   "version": "3.8.8"
  }
 },
 "nbformat": 4,
 "nbformat_minor": 5
}
